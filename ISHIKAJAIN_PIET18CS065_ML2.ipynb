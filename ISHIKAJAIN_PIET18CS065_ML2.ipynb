{
  "nbformat": 4,
  "nbformat_minor": 0,
  "metadata": {
    "colab": {
      "name": "ISHIKAJAIN_PIET18CS065_ML.ipynb",
      "provenance": [],
      "collapsed_sections": []
    },
    "kernelspec": {
      "name": "python3",
      "display_name": "Python 3"
    },
    "language_info": {
      "name": "python"
    }
  },
  "cells": [
    {
      "cell_type": "code",
      "metadata": {
        "id": "kP9f1lX_g35-"
      },
      "source": [
        "# Data Preprocessing\n",
        "\n",
        "# Importing the libraries\n",
        "import numpy as np\n",
        "import matplotlib.pyplot as plt\n",
        "import pandas as pd"
      ],
      "execution_count": 1,
      "outputs": []
    },
    {
      "cell_type": "code",
      "metadata": {
        "colab": {
          "resources": {
            "http://localhost:8080/nbextensions/google.colab/files.js": {
              "data": "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",
              "ok": true,
              "headers": [
                [
                  "content-type",
                  "application/javascript"
                ]
              ],
              "status": 200,
              "status_text": ""
            }
          },
          "base_uri": "https://localhost:8080/",
          "height": 72
        },
        "id": "Rw_g2YLfhC9H",
        "outputId": "e3605324-45e1-4696-d1a7-526b0a7aa5bf"
      },
      "source": [
        "# To Load dataset from local drive\n",
        "from google.colab import files\n",
        "uploaded = files.upload()"
      ],
      "execution_count": 2,
      "outputs": [
        {
          "output_type": "display_data",
          "data": {
            "text/html": [
              "\n",
              "     <input type=\"file\" id=\"files-995141f1-0cfa-45d9-8735-8627d75668ac\" name=\"files[]\" multiple disabled\n",
              "        style=\"border:none\" />\n",
              "     <output id=\"result-995141f1-0cfa-45d9-8735-8627d75668ac\">\n",
              "      Upload widget is only available when the cell has been executed in the\n",
              "      current browser session. Please rerun this cell to enable.\n",
              "      </output>\n",
              "      <script src=\"/nbextensions/google.colab/files.js\"></script> "
            ],
            "text/plain": [
              "<IPython.core.display.HTML object>"
            ]
          },
          "metadata": {
            "tags": []
          }
        },
        {
          "output_type": "stream",
          "text": [
            "Saving clustering dataset1.csv to clustering dataset1.csv\n"
          ],
          "name": "stdout"
        }
      ]
    },
    {
      "cell_type": "code",
      "metadata": {
        "colab": {
          "base_uri": "https://localhost:8080/",
          "height": 419
        },
        "id": "nzQODWKRhDAf",
        "outputId": "9a53a771-9ff9-4ecd-9f11-a466c5251ee0"
      },
      "source": [
        "# Importing the dataset\n",
        "dataset = pd.read_csv('clustering dataset1.csv')\n",
        "dataset"
      ],
      "execution_count": 3,
      "outputs": [
        {
          "output_type": "execute_result",
          "data": {
            "text/html": [
              "<div>\n",
              "<style scoped>\n",
              "    .dataframe tbody tr th:only-of-type {\n",
              "        vertical-align: middle;\n",
              "    }\n",
              "\n",
              "    .dataframe tbody tr th {\n",
              "        vertical-align: top;\n",
              "    }\n",
              "\n",
              "    .dataframe thead th {\n",
              "        text-align: right;\n",
              "    }\n",
              "</style>\n",
              "<table border=\"1\" class=\"dataframe\">\n",
              "  <thead>\n",
              "    <tr style=\"text-align: right;\">\n",
              "      <th></th>\n",
              "      <th>Gender</th>\n",
              "      <th>Glucose</th>\n",
              "      <th>BP</th>\n",
              "      <th>SkinThickness</th>\n",
              "      <th>Insulin</th>\n",
              "      <th>BMI</th>\n",
              "      <th>PedigreeFunction</th>\n",
              "      <th>Age</th>\n",
              "    </tr>\n",
              "  </thead>\n",
              "  <tbody>\n",
              "    <tr>\n",
              "      <th>0</th>\n",
              "      <td>Male</td>\n",
              "      <td>148</td>\n",
              "      <td>72.0</td>\n",
              "      <td>35.0</td>\n",
              "      <td>0.0</td>\n",
              "      <td>33.6</td>\n",
              "      <td>0.627</td>\n",
              "      <td>50</td>\n",
              "    </tr>\n",
              "    <tr>\n",
              "      <th>1</th>\n",
              "      <td>Female</td>\n",
              "      <td>85</td>\n",
              "      <td>66.0</td>\n",
              "      <td>29.0</td>\n",
              "      <td>0.0</td>\n",
              "      <td>26.6</td>\n",
              "      <td>0.351</td>\n",
              "      <td>31</td>\n",
              "    </tr>\n",
              "    <tr>\n",
              "      <th>2</th>\n",
              "      <td>Female</td>\n",
              "      <td>183</td>\n",
              "      <td>64.0</td>\n",
              "      <td>0.0</td>\n",
              "      <td>0.0</td>\n",
              "      <td>23.3</td>\n",
              "      <td>0.672</td>\n",
              "      <td>32</td>\n",
              "    </tr>\n",
              "    <tr>\n",
              "      <th>3</th>\n",
              "      <td>Female</td>\n",
              "      <td>89</td>\n",
              "      <td>66.0</td>\n",
              "      <td>23.0</td>\n",
              "      <td>94.0</td>\n",
              "      <td>28.1</td>\n",
              "      <td>0.167</td>\n",
              "      <td>21</td>\n",
              "    </tr>\n",
              "    <tr>\n",
              "      <th>4</th>\n",
              "      <td>Male</td>\n",
              "      <td>137</td>\n",
              "      <td>NaN</td>\n",
              "      <td>35.0</td>\n",
              "      <td>168.0</td>\n",
              "      <td>43.1</td>\n",
              "      <td>2.288</td>\n",
              "      <td>33</td>\n",
              "    </tr>\n",
              "    <tr>\n",
              "      <th>...</th>\n",
              "      <td>...</td>\n",
              "      <td>...</td>\n",
              "      <td>...</td>\n",
              "      <td>...</td>\n",
              "      <td>...</td>\n",
              "      <td>...</td>\n",
              "      <td>...</td>\n",
              "      <td>...</td>\n",
              "    </tr>\n",
              "    <tr>\n",
              "      <th>559</th>\n",
              "      <td>Male</td>\n",
              "      <td>85</td>\n",
              "      <td>74.0</td>\n",
              "      <td>0.0</td>\n",
              "      <td>0.0</td>\n",
              "      <td>30.1</td>\n",
              "      <td>0.300</td>\n",
              "      <td>35</td>\n",
              "    </tr>\n",
              "    <tr>\n",
              "      <th>560</th>\n",
              "      <td>Male</td>\n",
              "      <td>125</td>\n",
              "      <td>76.0</td>\n",
              "      <td>0.0</td>\n",
              "      <td>0.0</td>\n",
              "      <td>33.8</td>\n",
              "      <td>0.121</td>\n",
              "      <td>54</td>\n",
              "    </tr>\n",
              "    <tr>\n",
              "      <th>561</th>\n",
              "      <td>Male</td>\n",
              "      <td>198</td>\n",
              "      <td>66.0</td>\n",
              "      <td>32.0</td>\n",
              "      <td>274.0</td>\n",
              "      <td>41.3</td>\n",
              "      <td>0.502</td>\n",
              "      <td>28</td>\n",
              "    </tr>\n",
              "    <tr>\n",
              "      <th>562</th>\n",
              "      <td>Male</td>\n",
              "      <td>87</td>\n",
              "      <td>68.0</td>\n",
              "      <td>34.0</td>\n",
              "      <td>77.0</td>\n",
              "      <td>37.6</td>\n",
              "      <td>0.401</td>\n",
              "      <td>24</td>\n",
              "    </tr>\n",
              "    <tr>\n",
              "      <th>563</th>\n",
              "      <td>Male</td>\n",
              "      <td>99</td>\n",
              "      <td>60.0</td>\n",
              "      <td>19.0</td>\n",
              "      <td>54.0</td>\n",
              "      <td>26.9</td>\n",
              "      <td>0.497</td>\n",
              "      <td>32</td>\n",
              "    </tr>\n",
              "  </tbody>\n",
              "</table>\n",
              "<p>564 rows × 8 columns</p>\n",
              "</div>"
            ],
            "text/plain": [
              "     Gender  Glucose    BP  SkinThickness  Insulin   BMI  PedigreeFunction  Age\n",
              "0      Male      148  72.0           35.0      0.0  33.6             0.627   50\n",
              "1    Female       85  66.0           29.0      0.0  26.6             0.351   31\n",
              "2    Female      183  64.0            0.0      0.0  23.3             0.672   32\n",
              "3    Female       89  66.0           23.0     94.0  28.1             0.167   21\n",
              "4      Male      137   NaN           35.0    168.0  43.1             2.288   33\n",
              "..      ...      ...   ...            ...      ...   ...               ...  ...\n",
              "559    Male       85  74.0            0.0      0.0  30.1             0.300   35\n",
              "560    Male      125  76.0            0.0      0.0  33.8             0.121   54\n",
              "561    Male      198  66.0           32.0    274.0  41.3             0.502   28\n",
              "562    Male       87  68.0           34.0     77.0  37.6             0.401   24\n",
              "563    Male       99  60.0           19.0     54.0  26.9             0.497   32\n",
              "\n",
              "[564 rows x 8 columns]"
            ]
          },
          "metadata": {
            "tags": []
          },
          "execution_count": 3
        }
      ]
    },
    {
      "cell_type": "code",
      "metadata": {
        "colab": {
          "base_uri": "https://localhost:8080/"
        },
        "id": "Kn2DVje3hDEh",
        "outputId": "70a9437c-1aa5-4569-abae-dc5971013db8"
      },
      "source": [
        "# Mounting Google Drive\n",
        "from google.colab import drive\n",
        "drive.mount('/content/drive')"
      ],
      "execution_count": 4,
      "outputs": [
        {
          "output_type": "stream",
          "text": [
            "Mounted at /content/drive\n"
          ],
          "name": "stdout"
        }
      ]
    },
    {
      "cell_type": "code",
      "metadata": {
        "colab": {
          "base_uri": "https://localhost:8080/"
        },
        "id": "u1yVVcGGhDIY",
        "outputId": "56524cfb-cdf3-42ba-d526-aba455511d6c"
      },
      "source": [
        "print(dataset)"
      ],
      "execution_count": 5,
      "outputs": [
        {
          "output_type": "stream",
          "text": [
            "     Gender  Glucose    BP  SkinThickness  Insulin   BMI  PedigreeFunction  Age\n",
            "0      Male      148  72.0           35.0      0.0  33.6             0.627   50\n",
            "1    Female       85  66.0           29.0      0.0  26.6             0.351   31\n",
            "2    Female      183  64.0            0.0      0.0  23.3             0.672   32\n",
            "3    Female       89  66.0           23.0     94.0  28.1             0.167   21\n",
            "4      Male      137   NaN           35.0    168.0  43.1             2.288   33\n",
            "..      ...      ...   ...            ...      ...   ...               ...  ...\n",
            "559    Male       85  74.0            0.0      0.0  30.1             0.300   35\n",
            "560    Male      125  76.0            0.0      0.0  33.8             0.121   54\n",
            "561    Male      198  66.0           32.0    274.0  41.3             0.502   28\n",
            "562    Male       87  68.0           34.0     77.0  37.6             0.401   24\n",
            "563    Male       99  60.0           19.0     54.0  26.9             0.497   32\n",
            "\n",
            "[564 rows x 8 columns]\n"
          ],
          "name": "stdout"
        }
      ]
    },
    {
      "cell_type": "code",
      "metadata": {
        "colab": {
          "base_uri": "https://localhost:8080/"
        },
        "id": "4jXRceG4hDKt",
        "outputId": "88fd68b3-3a2a-4007-d491-df020f19adc0"
      },
      "source": [
        "#Print Total number of Rows & columns in dataset\n",
        "print(dataset.shape)"
      ],
      "execution_count": 6,
      "outputs": [
        {
          "output_type": "stream",
          "text": [
            "(564, 8)\n"
          ],
          "name": "stdout"
        }
      ]
    },
    {
      "cell_type": "code",
      "metadata": {
        "colab": {
          "base_uri": "https://localhost:8080/"
        },
        "id": "L6rn7k7bhDOA",
        "outputId": "2f8aa147-6587-4a19-f5a8-f5b2642999de"
      },
      "source": [
        "#Print Information about data\n",
        "dataset.info()"
      ],
      "execution_count": 7,
      "outputs": [
        {
          "output_type": "stream",
          "text": [
            "<class 'pandas.core.frame.DataFrame'>\n",
            "RangeIndex: 564 entries, 0 to 563\n",
            "Data columns (total 8 columns):\n",
            " #   Column            Non-Null Count  Dtype  \n",
            "---  ------            --------------  -----  \n",
            " 0   Gender            564 non-null    object \n",
            " 1   Glucose           564 non-null    int64  \n",
            " 2   BP                548 non-null    float64\n",
            " 3   SkinThickness     553 non-null    float64\n",
            " 4   Insulin           552 non-null    float64\n",
            " 5   BMI               547 non-null    float64\n",
            " 6   PedigreeFunction  546 non-null    float64\n",
            " 7   Age               564 non-null    int64  \n",
            "dtypes: float64(5), int64(2), object(1)\n",
            "memory usage: 35.4+ KB\n"
          ],
          "name": "stdout"
        }
      ]
    },
    {
      "cell_type": "code",
      "metadata": {
        "colab": {
          "base_uri": "https://localhost:8080/"
        },
        "id": "cmNuw30PhDQ1",
        "outputId": "f1e5a5cc-f309-48b5-d02f-257b26cf6273"
      },
      "source": [
        "types = dataset.dtypes\n",
        "print(types)"
      ],
      "execution_count": 8,
      "outputs": [
        {
          "output_type": "stream",
          "text": [
            "Gender               object\n",
            "Glucose               int64\n",
            "BP                  float64\n",
            "SkinThickness       float64\n",
            "Insulin             float64\n",
            "BMI                 float64\n",
            "PedigreeFunction    float64\n",
            "Age                   int64\n",
            "dtype: object\n"
          ],
          "name": "stdout"
        }
      ]
    },
    {
      "cell_type": "code",
      "metadata": {
        "colab": {
          "base_uri": "https://localhost:8080/"
        },
        "id": "DC2EcWRVhDTv",
        "outputId": "e2b1edef-c709-4be2-8527-274c97e0533c"
      },
      "source": [
        "#Count total number of classes in Data\n",
        "class_counts = dataset.groupby('Gender').size()\n",
        "print(class_counts)"
      ],
      "execution_count": 9,
      "outputs": [
        {
          "output_type": "stream",
          "text": [
            "Gender\n",
            "Female    247\n",
            "Male      317\n",
            "dtype: int64\n"
          ],
          "name": "stdout"
        }
      ]
    },
    {
      "cell_type": "code",
      "metadata": {
        "colab": {
          "base_uri": "https://localhost:8080/",
          "height": 281
        },
        "id": "-Bvmz4B0hDWN",
        "outputId": "2593e040-c624-4ad6-ce74-3d41671a4571"
      },
      "source": [
        "from matplotlib import pyplot\n",
        "dataset.hist()\n",
        "pyplot.show()"
      ],
      "execution_count": 10,
      "outputs": [
        {
          "output_type": "display_data",
          "data": {
            "image/png": "[encoded data removed]",
            "text/plain": [
              "<Figure size 432x288 with 9 Axes>"
            ]
          },
          "metadata": {
            "tags": [],
            "needs_background": "light"
          }
        }
      ]
    },
    {
      "cell_type": "code",
      "metadata": {
        "colab": {
          "base_uri": "https://localhost:8080/",
          "height": 265
        },
        "id": "n-DDz9yMhDZY",
        "outputId": "d84474a7-9a31-4aa1-9095-90c8d542c1c3"
      },
      "source": [
        "dataset.plot(kind='density' ,subplots=True, layout=(3,3), sharex=False)\n",
        "pyplot.show()"
      ],
      "execution_count": 11,
      "outputs": [
        {
          "output_type": "display_data",
          "data": {
            "image/png": "[encoded data removed]",
            "text/plain": [
              "<Figure size 432x288 with 9 Axes>"
            ]
          },
          "metadata": {
            "tags": [],
            "needs_background": "light"
          }
        }
      ]
    },
    {
      "cell_type": "code",
      "metadata": {
        "colab": {
          "base_uri": "https://localhost:8080/",
          "height": 297
        },
        "id": "Z7iNkgjjhDcK",
        "outputId": "a4764cc5-5abf-4b8e-f8f6-65f1ba7c6241"
      },
      "source": [
        "dataset.describe()"
      ],
      "execution_count": 12,
      "outputs": [
        {
          "output_type": "execute_result",
          "data": {
            "text/html": [
              "<div>\n",
              "<style scoped>\n",
              "    .dataframe tbody tr th:only-of-type {\n",
              "        vertical-align: middle;\n",
              "    }\n",
              "\n",
              "    .dataframe tbody tr th {\n",
              "        vertical-align: top;\n",
              "    }\n",
              "\n",
              "    .dataframe thead th {\n",
              "        text-align: right;\n",
              "    }\n",
              "</style>\n",
              "<table border=\"1\" class=\"dataframe\">\n",
              "  <thead>\n",
              "    <tr style=\"text-align: right;\">\n",
              "      <th></th>\n",
              "      <th>Glucose</th>\n",
              "      <th>BP</th>\n",
              "      <th>SkinThickness</th>\n",
              "      <th>Insulin</th>\n",
              "      <th>BMI</th>\n",
              "      <th>PedigreeFunction</th>\n",
              "      <th>Age</th>\n",
              "    </tr>\n",
              "  </thead>\n",
              "  <tbody>\n",
              "    <tr>\n",
              "      <th>count</th>\n",
              "      <td>564.000000</td>\n",
              "      <td>548.000000</td>\n",
              "      <td>553.000000</td>\n",
              "      <td>552.000000</td>\n",
              "      <td>547.000000</td>\n",
              "      <td>546.000000</td>\n",
              "      <td>564.000000</td>\n",
              "    </tr>\n",
              "    <tr>\n",
              "      <th>mean</th>\n",
              "      <td>120.239362</td>\n",
              "      <td>68.768248</td>\n",
              "      <td>20.618445</td>\n",
              "      <td>80.009058</td>\n",
              "      <td>31.830896</td>\n",
              "      <td>0.481267</td>\n",
              "      <td>33.292553</td>\n",
              "    </tr>\n",
              "    <tr>\n",
              "      <th>std</th>\n",
              "      <td>32.763176</td>\n",
              "      <td>19.279507</td>\n",
              "      <td>15.628644</td>\n",
              "      <td>116.936865</td>\n",
              "      <td>8.111669</td>\n",
              "      <td>0.337244</td>\n",
              "      <td>11.818696</td>\n",
              "    </tr>\n",
              "    <tr>\n",
              "      <th>min</th>\n",
              "      <td>0.000000</td>\n",
              "      <td>0.000000</td>\n",
              "      <td>0.000000</td>\n",
              "      <td>0.000000</td>\n",
              "      <td>0.000000</td>\n",
              "      <td>0.078000</td>\n",
              "      <td>21.000000</td>\n",
              "    </tr>\n",
              "    <tr>\n",
              "      <th>25%</th>\n",
              "      <td>99.000000</td>\n",
              "      <td>64.000000</td>\n",
              "      <td>0.000000</td>\n",
              "      <td>0.000000</td>\n",
              "      <td>27.050000</td>\n",
              "      <td>0.248250</td>\n",
              "      <td>24.000000</td>\n",
              "    </tr>\n",
              "    <tr>\n",
              "      <th>50%</th>\n",
              "      <td>116.000000</td>\n",
              "      <td>70.000000</td>\n",
              "      <td>23.000000</td>\n",
              "      <td>37.500000</td>\n",
              "      <td>32.000000</td>\n",
              "      <td>0.388500</td>\n",
              "      <td>29.000000</td>\n",
              "    </tr>\n",
              "    <tr>\n",
              "      <th>75%</th>\n",
              "      <td>140.250000</td>\n",
              "      <td>78.500000</td>\n",
              "      <td>32.000000</td>\n",
              "      <td>120.500000</td>\n",
              "      <td>36.550000</td>\n",
              "      <td>0.646500</td>\n",
              "      <td>40.000000</td>\n",
              "    </tr>\n",
              "    <tr>\n",
              "      <th>max</th>\n",
              "      <td>198.000000</td>\n",
              "      <td>122.000000</td>\n",
              "      <td>63.000000</td>\n",
              "      <td>846.000000</td>\n",
              "      <td>67.100000</td>\n",
              "      <td>2.420000</td>\n",
              "      <td>81.000000</td>\n",
              "    </tr>\n",
              "  </tbody>\n",
              "</table>\n",
              "</div>"
            ],
            "text/plain": [
              "          Glucose          BP  ...  PedigreeFunction         Age\n",
              "count  564.000000  548.000000  ...        546.000000  564.000000\n",
              "mean   120.239362   68.768248  ...          0.481267   33.292553\n",
              "std     32.763176   19.279507  ...          0.337244   11.818696\n",
              "min      0.000000    0.000000  ...          0.078000   21.000000\n",
              "25%     99.000000   64.000000  ...          0.248250   24.000000\n",
              "50%    116.000000   70.000000  ...          0.388500   29.000000\n",
              "75%    140.250000   78.500000  ...          0.646500   40.000000\n",
              "max    198.000000  122.000000  ...          2.420000   81.000000\n",
              "\n",
              "[8 rows x 7 columns]"
            ]
          },
          "metadata": {
            "tags": []
          },
          "execution_count": 12
        }
      ]
    },
    {
      "cell_type": "code",
      "metadata": {
        "id": "hJEK6EVkhDfN"
      },
      "source": [
        "# Extracting features of dataset\n",
        "\n",
        "X = dataset.iloc[:,0:8].values\n",
        "\n"
      ],
      "execution_count": 13,
      "outputs": []
    },
    {
      "cell_type": "code",
      "metadata": {
        "colab": {
          "base_uri": "https://localhost:8080/"
        },
        "id": "sLGZT-6ehDhr",
        "outputId": "b659288b-954d-4b34-bbb0-58980223282c"
      },
      "source": [
        "print(X)\n"
      ],
      "execution_count": 14,
      "outputs": [
        {
          "output_type": "stream",
          "text": [
            "[['Male' 148 72.0 ... 33.6 0.627 50]\n",
            " ['Female' 85 66.0 ... 26.6 0.35100000000000003 31]\n",
            " ['Female' 183 64.0 ... 23.3 0.672 32]\n",
            " ...\n",
            " ['Male' 198 66.0 ... 41.3 0.502 28]\n",
            " ['Male' 87 68.0 ... 37.6 0.401 24]\n",
            " ['Male' 99 60.0 ... 26.9 0.49700000000000005 32]]\n"
          ],
          "name": "stdout"
        }
      ]
    },
    {
      "cell_type": "code",
      "metadata": {
        "id": "b0fOtyqAhDnm"
      },
      "source": [
        "# Taking care of missing data\n",
        "#handling missing data (Replacing missing data with the mean value)  \n",
        "from sklearn.impute import SimpleImputer\n",
        "imputer = SimpleImputer(missing_values= np.NaN, strategy= 'mean', fill_value=None, verbose=1, copy=True)\n",
        "#Fitting imputer object to the independent variables x.   \n",
        "imputer = imputer.fit(X[:,2:7]) \n",
        "#Replacing missing data with the calculated mean value  \n",
        "X[:,2:7]= imputer.transform(X[:,2:7])  "
      ],
      "execution_count": 15,
      "outputs": []
    },
    {
      "cell_type": "code",
      "metadata": {
        "colab": {
          "base_uri": "https://localhost:8080/"
        },
        "id": "5-0t4GQnhDkn",
        "outputId": "534fd666-8b68-4abe-f144-6ee992a270d4"
      },
      "source": [
        "dataframe=pd.DataFrame(X,columns=['Gender','Glucose','BP','SkinThickness','Insulin','BMI','PedigreeFunction','Age'])\n",
        "dataframe.isnull().sum()"
      ],
      "execution_count": 17,
      "outputs": [
        {
          "output_type": "execute_result",
          "data": {
            "text/plain": [
              "Gender              0\n",
              "Glucose             0\n",
              "BP                  0\n",
              "SkinThickness       0\n",
              "Insulin             0\n",
              "BMI                 0\n",
              "PedigreeFunction    0\n",
              "Age                 0\n",
              "dtype: int64"
            ]
          },
          "metadata": {
            "tags": []
          },
          "execution_count": 17
        }
      ]
    },
    {
      "cell_type": "code",
      "metadata": {
        "id": "cDBidJswrFra"
      },
      "source": [
        "# Encoding Categorical data:\n",
        "# Encoding the Independent Variable\n",
        "from sklearn.preprocessing import LabelEncoder\n",
        "labelencoder_X = LabelEncoder()\n",
        "X[:, 0] = labelencoder_X.fit_transform(X[:, 0])"
      ],
      "execution_count": 18,
      "outputs": []
    },
    {
      "cell_type": "code",
      "metadata": {
        "colab": {
          "base_uri": "https://localhost:8080/"
        },
        "id": "ezrGPQSprFuC",
        "outputId": "d3fbc9a1-de46-400f-9e46-97098adf34dc"
      },
      "source": [
        "print(X)"
      ],
      "execution_count": 19,
      "outputs": [
        {
          "output_type": "stream",
          "text": [
            "[[1 148 72.0 ... 33.6 0.627 50]\n",
            " [0 85 66.0 ... 26.6 0.35100000000000003 31]\n",
            " [0 183 64.0 ... 23.3 0.672 32]\n",
            " ...\n",
            " [1 198 66.0 ... 41.3 0.502 28]\n",
            " [1 87 68.0 ... 37.6 0.401 24]\n",
            " [1 99 60.0 ... 26.9 0.49700000000000005 32]]\n"
          ],
          "name": "stdout"
        }
      ]
    },
    {
      "cell_type": "code",
      "metadata": {
        "id": "o4421Rr2hD4U"
      },
      "source": [
        "# Using the elbow method to find the optimal number of clusters\n",
        "from sklearn.cluster import KMeans\n",
        "wcss = []\n",
        "for i in range(1, 8):\n",
        "    kmeans = KMeans(n_clusters = i, init = 'k-means++', random_state = 42)\n",
        "    kmeans.fit(X)\n",
        "    wcss.append(kmeans.inertia_)"
      ],
      "execution_count": 20,
      "outputs": []
    },
    {
      "cell_type": "code",
      "metadata": {
        "colab": {
          "base_uri": "https://localhost:8080/",
          "height": 295
        },
        "id": "ETI3-otzhD7d",
        "outputId": "d6ee86d3-99a0-45a3-81b4-47ef8acfd88c"
      },
      "source": [
        "plt.plot(range(1, 8), wcss)\n",
        "\n",
        "plt.title('The Elbow Method')\n",
        "plt.xlabel('Number of clusters')\n",
        "plt.ylabel('WCSS')\n",
        "plt.show()"
      ],
      "execution_count": 21,
      "outputs": [
        {
          "output_type": "display_data",
          "data": {
            "image/png": "[encoded data removed]",
            "text/plain": [
              "<Figure size 432x288 with 1 Axes>"
            ]
          },
          "metadata": {
            "tags": [],
            "needs_background": "light"
          }
        }
      ]
    },
    {
      "cell_type": "code",
      "metadata": {
        "id": "pmEAgk5dhD-f"
      },
      "source": [
        "# Fitting K-Means to the dataset\n",
        "from sklearn.cluster import AgglomerativeClustering\n",
        "hc = AgglomerativeClustering(n_clusters = 2, affinity = 'euclidean', linkage = 'ward')\n",
        "y_hc = hc.fit_predict(X)\n"
      ],
      "execution_count": 22,
      "outputs": []
    },
    {
      "cell_type": "code",
      "metadata": {
        "colab": {
          "base_uri": "https://localhost:8080/",
          "height": 295
        },
        "id": "JA5vJjTPhEKf",
        "outputId": "38d7b39a-6e0b-40d6-eea3-f56eb1023dd5"
      },
      "source": [
        "# Visualising the clusters\n",
        "plt.scatter(X[:,2], X[:,4], s = 100, c = 'black', label = 'Data Distribution')\n",
        "plt.title(' Distribution before clustering')\n",
        "plt.xlabel('BP')\n",
        "plt.ylabel('Insulin')\n",
        "plt.legend()\n",
        "plt.show()"
      ],
      "execution_count": 23,
      "outputs": [
        {
          "output_type": "display_data",
          "data": {
            "image/png": "[encoded data removed]",
            "text/plain": [
              "<Figure size 432x288 with 1 Axes>"
            ]
          },
          "metadata": {
            "tags": [],
            "needs_background": "light"
          }
        }
      ]
    },
    {
      "cell_type": "code",
      "metadata": {
        "colab": {
          "base_uri": "https://localhost:8080/"
        },
        "id": "CyHKG3bUhENl",
        "outputId": "e04f3a20-1597-4d69-d0c2-0e2efc41cd50"
      },
      "source": [
        "frame = pd.DataFrame(X)\n",
        "frame['cluster'] = y_hc\n",
        "frame['cluster'].value_counts()"
      ],
      "execution_count": 24,
      "outputs": [
        {
          "output_type": "execute_result",
          "data": {
            "text/plain": [
              "1    442\n",
              "0    122\n",
              "Name: cluster, dtype: int64"
            ]
          },
          "metadata": {
            "tags": []
          },
          "execution_count": 24
        }
      ]
    },
    {
      "cell_type": "code",
      "metadata": {
        "colab": {
          "base_uri": "https://localhost:8080/",
          "height": 295
        },
        "id": "p36sFcoMhETu",
        "outputId": "9c0693bc-4393-4b34-bf50-37b8c1ae65fd"
      },
      "source": [
        "plt.scatter(X[y_hc == 0, 2], X[y_hc == 0, 4], s = 100, c = 'red', label = 'disease 0')\n",
        "plt.scatter(X[y_hc == 1, 2], X[y_hc == 1, 4], s = 100, c = 'blue', label = 'disease 1')\n",
        "plt.title('Clusters of customers')\n",
        "plt.xlabel('BP')\n",
        "plt.ylabel('Insulin')\n",
        "plt.legend()\n",
        "plt.show()"
      ],
      "execution_count": 25,
      "outputs": [
        {
          "output_type": "display_data",
          "data": {
            "image/png": "[encoded data removed]",
            "text/plain": [
              "<Figure size 432x288 with 1 Axes>"
            ]
          },
          "metadata": {
            "tags": [],
            "needs_background": "light"
          }
        }
      ]
    },
    {
      "cell_type": "code",
      "metadata": {
        "colab": {
          "base_uri": "https://localhost:8080/"
        },
        "id": "Rj_SoXLghEWX",
        "outputId": "d4957349-7d8c-49ac-f332-d52e6987e9c6"
      },
      "source": [
        "import pickle \n",
        "  \n",
        "# Save the trained model as a pickle string. \n",
        "saved_model = pickle.dumps(kmeans) \n",
        "  \n",
        "# Load the pickled model \n",
        "Saved_Model = pickle.loads(saved_model) \n",
        "  \n",
        "# Use the loaded pickled model to make predictions \n",
        "Saved_Model.predict(X)"
      ],
      "execution_count": 26,
      "outputs": [
        {
          "output_type": "execute_result",
          "data": {
            "text/plain": [
              "array([5, 3, 5, 0, 6, 3, 0, 3, 4, 5, 3, 5, 5, 2, 6, 3, 1, 3, 0, 0, 1, 3,\n",
              "       5, 3, 6, 0, 5, 6, 0, 3, 3, 1, 0, 3, 3, 6, 5, 3, 3, 6, 0, 5, 3, 1,\n",
              "       5, 5, 5, 3, 3, 3, 0, 3, 3, 1, 1, 3, 1, 0, 5, 6, 3, 5, 3, 0, 3, 3,\n",
              "       3, 3, 3, 0, 0, 6, 0, 1, 3, 3, 3, 3, 0, 0, 3, 3, 0, 3, 5, 0, 3, 0,\n",
              "       0, 3, 3, 6, 0, 5, 0, 0, 3, 0, 0, 6, 5, 5, 5, 3, 3, 6, 3, 6, 3, 3,\n",
              "       6, 4, 3, 3, 0, 5, 5, 3, 3, 0, 0, 3, 0, 5, 3, 0, 6, 0, 6, 3, 6, 3,\n",
              "       1, 3, 0, 6, 0, 0, 5, 1, 5, 3, 0, 3, 1, 3, 3, 0, 5, 3, 6, 3, 6, 4,\n",
              "       5, 5, 0, 6, 0, 6, 5, 0, 1, 3, 5, 6, 5, 3, 3, 0, 3, 6, 3, 0, 0, 6,\n",
              "       3, 6, 5, 5, 3, 0, 3, 3, 5, 5, 4, 0, 0, 6, 3, 0, 5, 5, 3, 6, 3, 0,\n",
              "       0, 1, 3, 5, 3, 0, 6, 3, 1, 5, 0, 5, 3, 5, 5, 6, 6, 1, 6, 0, 3, 3,\n",
              "       4, 5, 3, 6, 0, 3, 3, 5, 2, 0, 5, 1, 3, 3, 0, 5, 6, 5, 5, 3, 3, 0,\n",
              "       5, 6, 6, 5, 3, 2, 4, 3, 3, 5, 0, 3, 1, 3, 3, 3, 1, 6, 6, 5, 3, 5,\n",
              "       3, 0, 5, 3, 3, 5, 3, 0, 3, 0, 3, 0, 3, 0, 3, 1, 5, 6, 6, 5, 3, 0,\n",
              "       4, 6, 0, 0, 3, 0, 6, 6, 5, 6, 1, 6, 6, 3, 5, 6, 0, 3, 5, 0, 6, 6,\n",
              "       6, 6, 3, 6, 0, 0, 0, 0, 0, 5, 6, 5, 1, 3, 3, 5, 3, 6, 6, 5, 0, 0,\n",
              "       3, 0, 5, 3, 0, 1, 3, 3, 6, 5, 0, 0, 3, 3, 3, 0, 0, 3, 0, 3, 3, 5,\n",
              "       3, 3, 3, 5, 6, 3, 0, 1, 1, 5, 3, 5, 1, 0, 3, 3, 0, 6, 4, 0, 0, 0,\n",
              "       6, 1, 0, 0, 5, 0, 0, 3, 6, 0, 0, 0, 3, 3, 1, 0, 6, 5, 4, 0, 5, 1,\n",
              "       0, 5, 3, 5, 3, 5, 0, 3, 5, 6, 3, 3, 5, 4, 3, 6, 1, 0, 6, 4, 3, 5,\n",
              "       3, 0, 6, 0, 0, 3, 6, 1, 3, 6, 6, 6, 3, 0, 0, 5, 3, 5, 5, 5, 3, 3,\n",
              "       5, 0, 0, 3, 3, 5, 0, 0, 0, 0, 0, 5, 6, 3, 0, 5, 5, 0, 1, 0, 0, 3,\n",
              "       0, 3, 3, 0, 3, 0, 3, 6, 5, 5, 3, 5, 3, 5, 6, 0, 0, 5, 1, 3, 0, 0,\n",
              "       5, 1, 4, 1, 3, 5, 0, 3, 3, 6, 3, 5, 3, 0, 6, 6, 0, 3, 3, 0, 3, 3,\n",
              "       0, 6, 0, 3, 3, 6, 3, 3, 0, 0, 6, 5, 3, 1, 0, 6, 3, 0, 3, 3, 0, 0,\n",
              "       6, 3, 0, 3, 0, 3, 0, 3, 3, 3, 6, 6, 6, 6, 3, 0, 0, 1, 6, 6, 0, 0,\n",
              "       3, 0, 3, 0, 0, 6, 3, 3, 3, 3, 5, 1, 0, 0], dtype=int32)"
            ]
          },
          "metadata": {
            "tags": []
          },
          "execution_count": 26
        }
      ]
    },
    {
      "cell_type": "code",
      "metadata": {
        "id": "YM5ASQSZhEZX"
      },
      "source": [
        "import joblib\n",
        "filename = '/content/drive/My Drive/pjmt2.sav'\n",
        "joblib.dump(kmeans, filename)\n",
        " \n",
        "# some time later...\n",
        " \n",
        "# load the model from disk\n",
        "loaded_model = joblib.load(filename)\n"
      ],
      "execution_count": 28,
      "outputs": []
    },
    {
      "cell_type": "code",
      "metadata": {
        "colab": {
          "base_uri": "https://localhost:8080/"
        },
        "id": "UA6JKb8NhyN8",
        "outputId": "d36d3167-6bd0-416a-9e01-2e78222e946b"
      },
      "source": [
        "import pickle \n",
        "print(\"[INFO] Saving model...\")\n",
        "# Save the trained model as a pickle string. \n",
        "saved_model=pickle.dump(kmeans,open('/content/drive/My Drive/pjmt2.pkl', 'wb')) \n",
        "# Saving model to disk"
      ],
      "execution_count": 29,
      "outputs": [
        {
          "output_type": "stream",
          "text": [
            "[INFO] Saving model...\n"
          ],
          "name": "stdout"
        }
      ]
    },
    {
      "cell_type": "code",
      "metadata": {
        "colab": {
          "base_uri": "https://localhost:8080/"
        },
        "id": "flfzPq6ChyZZ",
        "outputId": "cdd60073-907d-4d74-d805-896b656515fb"
      },
      "source": [
        "# Load the pickled model \n",
        "model = pickle.load(open('/content/drive/My Drive/pjmt2.pkl','rb'))  \n",
        "# Use the loaded pickled model to make predictions \n",
        "model.predict(X)"
      ],
      "execution_count": 30,
      "outputs": [
        {
          "output_type": "execute_result",
          "data": {
            "text/plain": [
              "array([5, 3, 5, 0, 6, 3, 0, 3, 4, 5, 3, 5, 5, 2, 6, 3, 1, 3, 0, 0, 1, 3,\n",
              "       5, 3, 6, 0, 5, 6, 0, 3, 3, 1, 0, 3, 3, 6, 5, 3, 3, 6, 0, 5, 3, 1,\n",
              "       5, 5, 5, 3, 3, 3, 0, 3, 3, 1, 1, 3, 1, 0, 5, 6, 3, 5, 3, 0, 3, 3,\n",
              "       3, 3, 3, 0, 0, 6, 0, 1, 3, 3, 3, 3, 0, 0, 3, 3, 0, 3, 5, 0, 3, 0,\n",
              "       0, 3, 3, 6, 0, 5, 0, 0, 3, 0, 0, 6, 5, 5, 5, 3, 3, 6, 3, 6, 3, 3,\n",
              "       6, 4, 3, 3, 0, 5, 5, 3, 3, 0, 0, 3, 0, 5, 3, 0, 6, 0, 6, 3, 6, 3,\n",
              "       1, 3, 0, 6, 0, 0, 5, 1, 5, 3, 0, 3, 1, 3, 3, 0, 5, 3, 6, 3, 6, 4,\n",
              "       5, 5, 0, 6, 0, 6, 5, 0, 1, 3, 5, 6, 5, 3, 3, 0, 3, 6, 3, 0, 0, 6,\n",
              "       3, 6, 5, 5, 3, 0, 3, 3, 5, 5, 4, 0, 0, 6, 3, 0, 5, 5, 3, 6, 3, 0,\n",
              "       0, 1, 3, 5, 3, 0, 6, 3, 1, 5, 0, 5, 3, 5, 5, 6, 6, 1, 6, 0, 3, 3,\n",
              "       4, 5, 3, 6, 0, 3, 3, 5, 2, 0, 5, 1, 3, 3, 0, 5, 6, 5, 5, 3, 3, 0,\n",
              "       5, 6, 6, 5, 3, 2, 4, 3, 3, 5, 0, 3, 1, 3, 3, 3, 1, 6, 6, 5, 3, 5,\n",
              "       3, 0, 5, 3, 3, 5, 3, 0, 3, 0, 3, 0, 3, 0, 3, 1, 5, 6, 6, 5, 3, 0,\n",
              "       4, 6, 0, 0, 3, 0, 6, 6, 5, 6, 1, 6, 6, 3, 5, 6, 0, 3, 5, 0, 6, 6,\n",
              "       6, 6, 3, 6, 0, 0, 0, 0, 0, 5, 6, 5, 1, 3, 3, 5, 3, 6, 6, 5, 0, 0,\n",
              "       3, 0, 5, 3, 0, 1, 3, 3, 6, 5, 0, 0, 3, 3, 3, 0, 0, 3, 0, 3, 3, 5,\n",
              "       3, 3, 3, 5, 6, 3, 0, 1, 1, 5, 3, 5, 1, 0, 3, 3, 0, 6, 4, 0, 0, 0,\n",
              "       6, 1, 0, 0, 5, 0, 0, 3, 6, 0, 0, 0, 3, 3, 1, 0, 6, 5, 4, 0, 5, 1,\n",
              "       0, 5, 3, 5, 3, 5, 0, 3, 5, 6, 3, 3, 5, 4, 3, 6, 1, 0, 6, 4, 3, 5,\n",
              "       3, 0, 6, 0, 0, 3, 6, 1, 3, 6, 6, 6, 3, 0, 0, 5, 3, 5, 5, 5, 3, 3,\n",
              "       5, 0, 0, 3, 3, 5, 0, 0, 0, 0, 0, 5, 6, 3, 0, 5, 5, 0, 1, 0, 0, 3,\n",
              "       0, 3, 3, 0, 3, 0, 3, 6, 5, 5, 3, 5, 3, 5, 6, 0, 0, 5, 1, 3, 0, 0,\n",
              "       5, 1, 4, 1, 3, 5, 0, 3, 3, 6, 3, 5, 3, 0, 6, 6, 0, 3, 3, 0, 3, 3,\n",
              "       0, 6, 0, 3, 3, 6, 3, 3, 0, 0, 6, 5, 3, 1, 0, 6, 3, 0, 3, 3, 0, 0,\n",
              "       6, 3, 0, 3, 0, 3, 0, 3, 3, 3, 6, 6, 6, 6, 3, 0, 0, 1, 6, 6, 0, 0,\n",
              "       3, 0, 3, 0, 0, 6, 3, 3, 3, 3, 5, 1, 0, 0], dtype=int32)"
            ]
          },
          "metadata": {
            "tags": []
          },
          "execution_count": 30
        }
      ]
    },
    {
      "cell_type": "code",
      "metadata": {
        "colab": {
          "base_uri": "https://localhost:8080/",
          "height": 1000
        },
        "id": "hx6Zw2GvhyeR",
        "outputId": "b920de06-1b6d-4a21-87eb-01b126df5106"
      },
      "source": [
        "!pip install streamlit"
      ],
      "execution_count": 31,
      "outputs": [
        {
          "output_type": "stream",
          "text": [
            "Collecting streamlit\n",
            "\u001b[?25l  Downloading https://files.pythonhosted.org/packages/50/f3/779be07f8b3a6bb39478691872e491665fdd6194255c05da2668e939ba3b/streamlit-0.84.0-py2.py3-none-any.whl (7.8MB)\n",
            "\u001b[K     |████████████████████████████████| 7.8MB 24.3MB/s \n",
            "\u001b[?25hRequirement already satisfied: tzlocal in /usr/local/lib/python3.7/dist-packages (from streamlit) (1.5.1)\n",
            "Requirement already satisfied: pandas>=0.21.0 in /usr/local/lib/python3.7/dist-packages (from streamlit) (1.1.5)\n",
            "Requirement already satisfied: click<8.0,>=7.0 in /usr/local/lib/python3.7/dist-packages (from streamlit) (7.1.2)\n",
            "Collecting validators\n",
            "  Downloading https://files.pythonhosted.org/packages/db/2f/7fed3ee94ad665ad2c1de87f858f10a7785251ff75b4fd47987888d07ef1/validators-0.18.2-py3-none-any.whl\n",
            "Requirement already satisfied: astor in /usr/local/lib/python3.7/dist-packages (from streamlit) (0.8.1)\n",
            "Requirement already satisfied: altair>=3.2.0 in /usr/local/lib/python3.7/dist-packages (from streamlit) (4.1.0)\n",
            "Requirement already satisfied: requests in /usr/local/lib/python3.7/dist-packages (from streamlit) (2.23.0)\n",
            "Collecting gitpython\n",
            "\u001b[?25l  Downloading https://files.pythonhosted.org/packages/bc/91/b38c4fabb6e5092ab23492ded4f318ab7299b19263272b703478038c0fbc/GitPython-3.1.18-py3-none-any.whl (170kB)\n",
            "\u001b[K     |████████████████████████████████| 174kB 44.2MB/s \n",
            "\u001b[?25hCollecting base58\n",
            "  Downloading https://files.pythonhosted.org/packages/b8/a1/d9f565e9910c09fd325dc638765e8843a19fa696275c16cc08cf3b0a3c25/base58-2.1.0-py3-none-any.whl\n",
            "Requirement already satisfied: packaging in /usr/local/lib/python3.7/dist-packages (from streamlit) (20.9)\n",
            "Requirement already satisfied: toml in /usr/local/lib/python3.7/dist-packages (from streamlit) (0.10.2)\n",
            "Collecting blinker\n",
            "\u001b[?25l  Downloading https://files.pythonhosted.org/packages/1b/51/e2a9f3b757eb802f61dc1f2b09c8c99f6eb01cf06416c0671253536517b6/blinker-1.4.tar.gz (111kB)\n",
            "\u001b[K     |████████████████████████████████| 112kB 37.8MB/s \n",
            "\u001b[?25hRequirement already satisfied: cachetools>=4.0 in /usr/local/lib/python3.7/dist-packages (from streamlit) (4.2.2)\n",
            "Collecting watchdog; platform_system != \"Darwin\"\n",
            "\u001b[?25l  Downloading https://files.pythonhosted.org/packages/6b/d1/b0a1e69af06d2f6f47a11238ca115667d858cbb30baf6b6df03f1b874163/watchdog-2.1.3-py3-none-manylinux2014_x86_64.whl (75kB)\n",
            "\u001b[K     |████████████████████████████████| 81kB 9.8MB/s \n",
            "\u001b[?25hRequirement already satisfied: pyarrow; python_version < \"3.9\" in /usr/local/lib/python3.7/dist-packages (from streamlit) (3.0.0)\n",
            "Requirement already satisfied: attrs in /usr/local/lib/python3.7/dist-packages (from streamlit) (21.2.0)\n",
            "Collecting pydeck>=0.1.dev5\n",
            "\u001b[?25l  Downloading https://files.pythonhosted.org/packages/d6/bc/f0e44828e4290367c869591d50d3671a4d0ee94926da6cb734b7b200308c/pydeck-0.6.2-py2.py3-none-any.whl (4.2MB)\n",
            "\u001b[K     |████████████████████████████████| 4.2MB 28.6MB/s \n",
            "\u001b[?25hRequirement already satisfied: pillow>=6.2.0 in /usr/local/lib/python3.7/dist-packages (from streamlit) (7.1.2)\n",
            "Requirement already satisfied: numpy in /usr/local/lib/python3.7/dist-packages (from streamlit) (1.19.5)\n",
            "Requirement already satisfied: tornado>=5.0 in /usr/local/lib/python3.7/dist-packages (from streamlit) (5.1.1)\n",
            "Requirement already satisfied: python-dateutil in /usr/local/lib/python3.7/dist-packages (from streamlit) (2.8.1)\n",
            "Requirement already satisfied: protobuf!=3.11,>=3.6.0 in /usr/local/lib/python3.7/dist-packages (from streamlit) (3.12.4)\n",
            "Requirement already satisfied: pytz in /usr/local/lib/python3.7/dist-packages (from tzlocal->streamlit) (2018.9)\n",
            "Requirement already satisfied: decorator>=3.4.0 in /usr/local/lib/python3.7/dist-packages (from validators->streamlit) (4.4.2)\n",
            "Requirement already satisfied: six>=1.4.0 in /usr/local/lib/python3.7/dist-packages (from validators->streamlit) (1.15.0)\n",
            "Requirement already satisfied: jsonschema in /usr/local/lib/python3.7/dist-packages (from altair>=3.2.0->streamlit) (2.6.0)\n",
            "Requirement already satisfied: jinja2 in /usr/local/lib/python3.7/dist-packages (from altair>=3.2.0->streamlit) (2.11.3)\n",
            "Requirement already satisfied: entrypoints in /usr/local/lib/python3.7/dist-packages (from altair>=3.2.0->streamlit) (0.3)\n",
            "Requirement already satisfied: toolz in /usr/local/lib/python3.7/dist-packages (from altair>=3.2.0->streamlit) (0.11.1)\n",
            "Requirement already satisfied: certifi>=2017.4.17 in /usr/local/lib/python3.7/dist-packages (from requests->streamlit) (2021.5.30)\n",
            "Requirement already satisfied: chardet<4,>=3.0.2 in /usr/local/lib/python3.7/dist-packages (from requests->streamlit) (3.0.4)\n",
            "Requirement already satisfied: urllib3!=1.25.0,!=1.25.1,<1.26,>=1.21.1 in /usr/local/lib/python3.7/dist-packages (from requests->streamlit) (1.24.3)\n",
            "Requirement already satisfied: idna<3,>=2.5 in /usr/local/lib/python3.7/dist-packages (from requests->streamlit) (2.10)\n",
            "Requirement already satisfied: typing-extensions>=3.7.4.0; python_version < \"3.8\" in /usr/local/lib/python3.7/dist-packages (from gitpython->streamlit) (3.7.4.3)\n",
            "Collecting gitdb<5,>=4.0.1\n",
            "\u001b[?25l  Downloading https://files.pythonhosted.org/packages/ea/e8/f414d1a4f0bbc668ed441f74f44c116d9816833a48bf81d22b697090dba8/gitdb-4.0.7-py3-none-any.whl (63kB)\n",
            "\u001b[K     |████████████████████████████████| 71kB 8.5MB/s \n",
            "\u001b[?25hRequirement already satisfied: pyparsing>=2.0.2 in /usr/local/lib/python3.7/dist-packages (from packaging->streamlit) (2.4.7)\n",
            "Requirement already satisfied: ipywidgets>=7.0.0 in /usr/local/lib/python3.7/dist-packages (from pydeck>=0.1.dev5->streamlit) (7.6.3)\n",
            "Requirement already satisfied: traitlets>=4.3.2 in /usr/local/lib/python3.7/dist-packages (from pydeck>=0.1.dev5->streamlit) (5.0.5)\n",
            "Collecting ipykernel>=5.1.2; python_version >= \"3.4\"\n",
            "\u001b[?25l  Downloading https://files.pythonhosted.org/packages/b6/4a/b9e7d67637549e1b75c2946e93e35740ea63a521d7d455343e6a8a8a7b91/ipykernel-6.0.1-py3-none-any.whl (122kB)\n",
            "\u001b[K     |████████████████████████████████| 122kB 50.8MB/s \n",
            "\u001b[?25hRequirement already satisfied: setuptools in /usr/local/lib/python3.7/dist-packages (from protobuf!=3.11,>=3.6.0->streamlit) (57.0.0)\n",
            "Requirement already satisfied: MarkupSafe>=0.23 in /usr/local/lib/python3.7/dist-packages (from jinja2->altair>=3.2.0->streamlit) (2.0.1)\n",
            "Collecting smmap<5,>=3.0.1\n",
            "  Downloading https://files.pythonhosted.org/packages/68/ee/d540eb5e5996eb81c26ceffac6ee49041d473bc5125f2aa995cf51ec1cf1/smmap-4.0.0-py2.py3-none-any.whl\n",
            "Requirement already satisfied: nbformat>=4.2.0 in /usr/local/lib/python3.7/dist-packages (from ipywidgets>=7.0.0->pydeck>=0.1.dev5->streamlit) (5.1.3)\n",
            "Requirement already satisfied: jupyterlab-widgets>=1.0.0; python_version >= \"3.6\" in /usr/local/lib/python3.7/dist-packages (from ipywidgets>=7.0.0->pydeck>=0.1.dev5->streamlit) (1.0.0)\n",
            "Requirement already satisfied: ipython>=4.0.0; python_version >= \"3.3\" in /usr/local/lib/python3.7/dist-packages (from ipywidgets>=7.0.0->pydeck>=0.1.dev5->streamlit) (5.5.0)\n",
            "Requirement already satisfied: widgetsnbextension~=3.5.0 in /usr/local/lib/python3.7/dist-packages (from ipywidgets>=7.0.0->pydeck>=0.1.dev5->streamlit) (3.5.1)\n",
            "Requirement already satisfied: ipython-genutils in /usr/local/lib/python3.7/dist-packages (from traitlets>=4.3.2->pydeck>=0.1.dev5->streamlit) (0.2.0)\n",
            "Requirement already satisfied: debugpy>=1.0.0 in /usr/local/lib/python3.7/dist-packages (from ipykernel>=5.1.2; python_version >= \"3.4\"->pydeck>=0.1.dev5->streamlit) (1.0.0)\n",
            "Requirement already satisfied: jupyter-client in /usr/local/lib/python3.7/dist-packages (from ipykernel>=5.1.2; python_version >= \"3.4\"->pydeck>=0.1.dev5->streamlit) (5.3.5)\n",
            "Collecting importlib-metadata<4; python_version < \"3.8.0\"\n",
            "  Downloading https://files.pythonhosted.org/packages/52/d0/bdb31463f2d9ca111e39b268518e9baa3542ef73ca449b711a7b4da69764/importlib_metadata-3.10.1-py3-none-any.whl\n",
            "Requirement already satisfied: jupyter-core in /usr/local/lib/python3.7/dist-packages (from nbformat>=4.2.0->ipywidgets>=7.0.0->pydeck>=0.1.dev5->streamlit) (4.7.1)\n",
            "Requirement already satisfied: pexpect; sys_platform != \"win32\" in /usr/local/lib/python3.7/dist-packages (from ipython>=4.0.0; python_version >= \"3.3\"->ipywidgets>=7.0.0->pydeck>=0.1.dev5->streamlit) (4.8.0)\n",
            "Requirement already satisfied: simplegeneric>0.8 in /usr/local/lib/python3.7/dist-packages (from ipython>=4.0.0; python_version >= \"3.3\"->ipywidgets>=7.0.0->pydeck>=0.1.dev5->streamlit) (0.8.1)\n",
            "Requirement already satisfied: pygments in /usr/local/lib/python3.7/dist-packages (from ipython>=4.0.0; python_version >= \"3.3\"->ipywidgets>=7.0.0->pydeck>=0.1.dev5->streamlit) (2.6.1)\n",
            "Requirement already satisfied: pickleshare in /usr/local/lib/python3.7/dist-packages (from ipython>=4.0.0; python_version >= \"3.3\"->ipywidgets>=7.0.0->pydeck>=0.1.dev5->streamlit) (0.7.5)\n",
            "Requirement already satisfied: prompt-toolkit<2.0.0,>=1.0.4 in /usr/local/lib/python3.7/dist-packages (from ipython>=4.0.0; python_version >= \"3.3\"->ipywidgets>=7.0.0->pydeck>=0.1.dev5->streamlit) (1.0.18)\n",
            "Requirement already satisfied: notebook>=4.4.1 in /usr/local/lib/python3.7/dist-packages (from widgetsnbextension~=3.5.0->ipywidgets>=7.0.0->pydeck>=0.1.dev5->streamlit) (5.3.1)\n",
            "Requirement already satisfied: pyzmq>=13 in /usr/local/lib/python3.7/dist-packages (from jupyter-client->ipykernel>=5.1.2; python_version >= \"3.4\"->pydeck>=0.1.dev5->streamlit) (22.1.0)\n",
            "Requirement already satisfied: zipp>=0.5 in /usr/local/lib/python3.7/dist-packages (from importlib-metadata<4; python_version < \"3.8.0\"->ipykernel>=5.1.2; python_version >= \"3.4\"->pydeck>=0.1.dev5->streamlit) (3.4.1)\n",
            "Requirement already satisfied: ptyprocess>=0.5 in /usr/local/lib/python3.7/dist-packages (from pexpect; sys_platform != \"win32\"->ipython>=4.0.0; python_version >= \"3.3\"->ipywidgets>=7.0.0->pydeck>=0.1.dev5->streamlit) (0.7.0)\n",
            "Requirement already satisfied: wcwidth in /usr/local/lib/python3.7/dist-packages (from prompt-toolkit<2.0.0,>=1.0.4->ipython>=4.0.0; python_version >= \"3.3\"->ipywidgets>=7.0.0->pydeck>=0.1.dev5->streamlit) (0.2.5)\n",
            "Requirement already satisfied: Send2Trash in /usr/local/lib/python3.7/dist-packages (from notebook>=4.4.1->widgetsnbextension~=3.5.0->ipywidgets>=7.0.0->pydeck>=0.1.dev5->streamlit) (1.5.0)\n",
            "Requirement already satisfied: nbconvert in /usr/local/lib/python3.7/dist-packages (from notebook>=4.4.1->widgetsnbextension~=3.5.0->ipywidgets>=7.0.0->pydeck>=0.1.dev5->streamlit) (5.6.1)\n",
            "Requirement already satisfied: terminado>=0.8.1 in /usr/local/lib/python3.7/dist-packages (from notebook>=4.4.1->widgetsnbextension~=3.5.0->ipywidgets>=7.0.0->pydeck>=0.1.dev5->streamlit) (0.10.1)\n",
            "Requirement already satisfied: bleach in /usr/local/lib/python3.7/dist-packages (from nbconvert->notebook>=4.4.1->widgetsnbextension~=3.5.0->ipywidgets>=7.0.0->pydeck>=0.1.dev5->streamlit) (3.3.0)\n",
            "Requirement already satisfied: defusedxml in /usr/local/lib/python3.7/dist-packages (from nbconvert->notebook>=4.4.1->widgetsnbextension~=3.5.0->ipywidgets>=7.0.0->pydeck>=0.1.dev5->streamlit) (0.7.1)\n",
            "Requirement already satisfied: testpath in /usr/local/lib/python3.7/dist-packages (from nbconvert->notebook>=4.4.1->widgetsnbextension~=3.5.0->ipywidgets>=7.0.0->pydeck>=0.1.dev5->streamlit) (0.5.0)\n",
            "Requirement already satisfied: pandocfilters>=1.4.1 in /usr/local/lib/python3.7/dist-packages (from nbconvert->notebook>=4.4.1->widgetsnbextension~=3.5.0->ipywidgets>=7.0.0->pydeck>=0.1.dev5->streamlit) (1.4.3)\n",
            "Requirement already satisfied: mistune<2,>=0.8.1 in /usr/local/lib/python3.7/dist-packages (from nbconvert->notebook>=4.4.1->widgetsnbextension~=3.5.0->ipywidgets>=7.0.0->pydeck>=0.1.dev5->streamlit) (0.8.4)\n",
            "Requirement already satisfied: webencodings in /usr/local/lib/python3.7/dist-packages (from bleach->nbconvert->notebook>=4.4.1->widgetsnbextension~=3.5.0->ipywidgets>=7.0.0->pydeck>=0.1.dev5->streamlit) (0.5.1)\n",
            "Building wheels for collected packages: blinker\n",
            "  Building wheel for blinker (setup.py) ... \u001b[?25l\u001b[?25hdone\n",
            "  Created wheel for blinker: filename=blinker-1.4-cp37-none-any.whl size=13476 sha256=c3afb9a07e8e4c6bd2654ddf634d4768311742c3433aed81f9599add6e597335\n",
            "  Stored in directory: /root/.cache/pip/wheels/92/a0/00/8690a57883956a301d91cf4ec999cc0b258b01e3f548f86e89\n",
            "Successfully built blinker\n",
            "\u001b[31mERROR: ipykernel 6.0.1 has requirement ipython>=7.23.1, but you'll have ipython 5.5.0 which is incompatible.\u001b[0m\n",
            "\u001b[31mERROR: google-colab 1.0.0 has requirement ipykernel~=4.10, but you'll have ipykernel 6.0.1 which is incompatible.\u001b[0m\n",
            "Installing collected packages: validators, smmap, gitdb, gitpython, base58, blinker, watchdog, importlib-metadata, ipykernel, pydeck, streamlit\n",
            "  Found existing installation: importlib-metadata 4.5.0\n",
            "    Uninstalling importlib-metadata-4.5.0:\n",
            "      Successfully uninstalled importlib-metadata-4.5.0\n",
            "  Found existing installation: ipykernel 4.10.1\n",
            "    Uninstalling ipykernel-4.10.1:\n",
            "      Successfully uninstalled ipykernel-4.10.1\n",
            "Successfully installed base58-2.1.0 blinker-1.4 gitdb-4.0.7 gitpython-3.1.18 importlib-metadata-3.10.1 ipykernel-6.0.1 pydeck-0.6.2 smmap-4.0.0 streamlit-0.84.0 validators-0.18.2 watchdog-2.1.3\n"
          ],
          "name": "stdout"
        },
        {
          "output_type": "display_data",
          "data": {
            "application/vnd.colab-display-data+json": {
              "pip_warning": {
                "packages": [
                  "ipykernel"
                ]
              }
            }
          },
          "metadata": {
            "tags": []
          }
        }
      ]
    },
    {
      "cell_type": "code",
      "metadata": {
        "colab": {
          "base_uri": "https://localhost:8080/"
        },
        "id": "Obygz3n5hygy",
        "outputId": "8d6f4059-87ba-4138-f6eb-49018d0393c6"
      },
      "source": [
        "!pip install pyngrok"
      ],
      "execution_count": 32,
      "outputs": [
        {
          "output_type": "stream",
          "text": [
            "Collecting pyngrok\n",
            "\u001b[?25l  Downloading https://files.pythonhosted.org/packages/6b/4e/a2fe095bbe17cf26424c4abcd22a0490e22d01cc628f25af5e220ddbf6f0/pyngrok-5.0.5.tar.gz (745kB)\n",
            "\r\u001b[K     |▍                               | 10kB 16.8MB/s eta 0:00:01\r\u001b[K     |▉                               | 20kB 21.5MB/s eta 0:00:01\r\u001b[K     |█▎                              | 30kB 25.5MB/s eta 0:00:01\r\u001b[K     |█▊                              | 40kB 27.2MB/s eta 0:00:01\r\u001b[K     |██▏                             | 51kB 30.0MB/s eta 0:00:01\r\u001b[K     |██▋                             | 61kB 30.6MB/s eta 0:00:01\r\u001b[K     |███                             | 71kB 30.1MB/s eta 0:00:01\r\u001b[K     |███▌                            | 81kB 30.5MB/s eta 0:00:01\r\u001b[K     |████                            | 92kB 30.3MB/s eta 0:00:01\r\u001b[K     |████▍                           | 102kB 31.0MB/s eta 0:00:01\r\u001b[K     |████▉                           | 112kB 31.0MB/s eta 0:00:01\r\u001b[K     |█████▎                          | 122kB 31.0MB/s eta 0:00:01\r\u001b[K     |█████▊                          | 133kB 31.0MB/s eta 0:00:01\r\u001b[K     |██████▏                         | 143kB 31.0MB/s eta 0:00:01\r\u001b[K     |██████▋                         | 153kB 31.0MB/s eta 0:00:01\r\u001b[K     |███████                         | 163kB 31.0MB/s eta 0:00:01\r\u001b[K     |███████▌                        | 174kB 31.0MB/s eta 0:00:01\r\u001b[K     |████████                        | 184kB 31.0MB/s eta 0:00:01\r\u001b[K     |████████▍                       | 194kB 31.0MB/s eta 0:00:01\r\u001b[K     |████████▉                       | 204kB 31.0MB/s eta 0:00:01\r\u001b[K     |█████████▎                      | 215kB 31.0MB/s eta 0:00:01\r\u001b[K     |█████████▊                      | 225kB 31.0MB/s eta 0:00:01\r\u001b[K     |██████████▏                     | 235kB 31.0MB/s eta 0:00:01\r\u001b[K     |██████████▌                     | 245kB 31.0MB/s eta 0:00:01\r\u001b[K     |███████████                     | 256kB 31.0MB/s eta 0:00:01\r\u001b[K     |███████████▍                    | 266kB 31.0MB/s eta 0:00:01\r\u001b[K     |███████████▉                    | 276kB 31.0MB/s eta 0:00:01\r\u001b[K     |████████████▎                   | 286kB 31.0MB/s eta 0:00:01\r\u001b[K     |████████████▊                   | 296kB 31.0MB/s eta 0:00:01\r\u001b[K     |█████████████▏                  | 307kB 31.0MB/s eta 0:00:01\r\u001b[K     |█████████████▋                  | 317kB 31.0MB/s eta 0:00:01\r\u001b[K     |██████████████                  | 327kB 31.0MB/s eta 0:00:01\r\u001b[K     |██████████████▌                 | 337kB 31.0MB/s eta 0:00:01\r\u001b[K     |███████████████                 | 348kB 31.0MB/s eta 0:00:01\r\u001b[K     |███████████████▍                | 358kB 31.0MB/s eta 0:00:01\r\u001b[K     |███████████████▉                | 368kB 31.0MB/s eta 0:00:01\r\u001b[K     |████████████████▎               | 378kB 31.0MB/s eta 0:00:01\r\u001b[K     |████████████████▊               | 389kB 31.0MB/s eta 0:00:01\r\u001b[K     |█████████████████▏              | 399kB 31.0MB/s eta 0:00:01\r\u001b[K     |█████████████████▋              | 409kB 31.0MB/s eta 0:00:01\r\u001b[K     |██████████████████              | 419kB 31.0MB/s eta 0:00:01\r\u001b[K     |██████████████████▌             | 430kB 31.0MB/s eta 0:00:01\r\u001b[K     |███████████████████             | 440kB 31.0MB/s eta 0:00:01\r\u001b[K     |███████████████████▍            | 450kB 31.0MB/s eta 0:00:01\r\u001b[K     |███████████████████▉            | 460kB 31.0MB/s eta 0:00:01\r\u001b[K     |████████████████████▎           | 471kB 31.0MB/s eta 0:00:01\r\u001b[K     |████████████████████▊           | 481kB 31.0MB/s eta 0:00:01\r\u001b[K     |█████████████████████           | 491kB 31.0MB/s eta 0:00:01\r\u001b[K     |█████████████████████▌          | 501kB 31.0MB/s eta 0:00:01\r\u001b[K     |██████████████████████          | 512kB 31.0MB/s eta 0:00:01\r\u001b[K     |██████████████████████▍         | 522kB 31.0MB/s eta 0:00:01\r\u001b[K     |██████████████████████▉         | 532kB 31.0MB/s eta 0:00:01\r\u001b[K     |███████████████████████▎        | 542kB 31.0MB/s eta 0:00:01\r\u001b[K     |███████████████████████▊        | 552kB 31.0MB/s eta 0:00:01\r\u001b[K     |████████████████████████▏       | 563kB 31.0MB/s eta 0:00:01\r\u001b[K     |████████████████████████▋       | 573kB 31.0MB/s eta 0:00:01\r\u001b[K     |█████████████████████████       | 583kB 31.0MB/s eta 0:00:01\r\u001b[K     |█████████████████████████▌      | 593kB 31.0MB/s eta 0:00:01\r\u001b[K     |██████████████████████████      | 604kB 31.0MB/s eta 0:00:01\r\u001b[K     |██████████████████████████▍     | 614kB 31.0MB/s eta 0:00:01\r\u001b[K     |██████████████████████████▉     | 624kB 31.0MB/s eta 0:00:01\r\u001b[K     |███████████████████████████▎    | 634kB 31.0MB/s eta 0:00:01\r\u001b[K     |███████████████████████████▊    | 645kB 31.0MB/s eta 0:00:01\r\u001b[K     |████████████████████████████▏   | 655kB 31.0MB/s eta 0:00:01\r\u001b[K     |████████████████████████████▋   | 665kB 31.0MB/s eta 0:00:01\r\u001b[K     |█████████████████████████████   | 675kB 31.0MB/s eta 0:00:01\r\u001b[K     |█████████████████████████████▌  | 686kB 31.0MB/s eta 0:00:01\r\u001b[K     |██████████████████████████████  | 696kB 31.0MB/s eta 0:00:01\r\u001b[K     |██████████████████████████████▍ | 706kB 31.0MB/s eta 0:00:01\r\u001b[K     |██████████████████████████████▉ | 716kB 31.0MB/s eta 0:00:01\r\u001b[K     |███████████████████████████████▏| 727kB 31.0MB/s eta 0:00:01\r\u001b[K     |███████████████████████████████▋| 737kB 31.0MB/s eta 0:00:01\r\u001b[K     |████████████████████████████████| 747kB 31.0MB/s \n",
            "\u001b[?25hRequirement already satisfied: PyYAML in /usr/local/lib/python3.7/dist-packages (from pyngrok) (3.13)\n",
            "Building wheels for collected packages: pyngrok\n",
            "  Building wheel for pyngrok (setup.py) ... \u001b[?25l\u001b[?25hdone\n",
            "  Created wheel for pyngrok: filename=pyngrok-5.0.5-cp37-none-any.whl size=19262 sha256=1b2cabe6e93b7ba133ad20144885abde6a5c18e09d2207725b957ead75cf3a22\n",
            "  Stored in directory: /root/.cache/pip/wheels/0c/13/64/5ebbcc22eaf53fdf5766b397c1fb17c83f5775fdccf0ea1b88\n",
            "Successfully built pyngrok\n",
            "Installing collected packages: pyngrok\n",
            "Successfully installed pyngrok-5.0.5\n"
          ],
          "name": "stdout"
        }
      ]
    },
    {
      "cell_type": "code",
      "metadata": {
        "colab": {
          "base_uri": "https://localhost:8080/"
        },
        "id": "ku-a-LM6iMxS",
        "outputId": "183907dd-b819-41eb-9455-2eefee7ec4d5"
      },
      "source": [
        "!ngrok authtoken 1rchx51OwTA2nzqkxMNeZXVHIeW_5FQEeWkR62XsYtqygMwwe"
      ],
      "execution_count": 33,
      "outputs": [
        {
          "output_type": "stream",
          "text": [
            "Authtoken saved to configuration file: /root/.ngrok2/ngrok.yml\n"
          ],
          "name": "stdout"
        }
      ]
    },
    {
      "cell_type": "code",
      "metadata": {
        "colab": {
          "base_uri": "https://localhost:8080/"
        },
        "id": "XRfOwOVriMz_",
        "outputId": "d902e776-c021-4d02-c2ec-d46be9f8b56e"
      },
      "source": [
        "%%writefile app.py\n",
        "import streamlit as st \n",
        "from PIL import Image\n",
        "import pickle\n",
        "import numpy as np\n",
        "import matplotlib.pyplot as plt\n",
        "import pandas as pd\n",
        "st.set_option('deprecation.showfileUploaderEncoding', False)\n",
        "# Load the pickled model\n",
        "pickle_in = open(\"/content/drive/My Drive/pjmt2.pkl\",\"rb\")\n",
        "model=pickle.load(pickle_in)\n",
        "dataset= pd.read_csv('/content/drive/My Drive/clustering dataset1.csv')\n",
        "X = dataset.iloc[:,0:8].values\n",
        "\n",
        "# Taking care of missing data\n",
        "#handling missing data (Replacing missing data with the mean value)  \n",
        "from sklearn.impute import SimpleImputer\n",
        "imputer = SimpleImputer(missing_values= np.NaN, strategy= 'mean', fill_value=None, verbose=1, copy=True)\n",
        "#Fitting imputer object to the independent variables x.   \n",
        "imputer = imputer.fit(X[:,2:7]) \n",
        "#Replacing missing data with the calculated mean value  \n",
        "X[:,2:7]= imputer.transform(X[:,2:7])  \n",
        "\n",
        "\n",
        "# Encoding Categorical data:\n",
        "# Encoding the Independent Variable\n",
        "from sklearn.preprocessing import LabelEncoder\n",
        "labelencoder_X = LabelEncoder()\n",
        "X[:, 0] = labelencoder_X.fit_transform(X[:,0])\n",
        "\n",
        "\n",
        "\n",
        "from sklearn.preprocessing import StandardScaler\n",
        "sc = StandardScaler()\n",
        "X = sc.fit_transform(X)\n",
        "\n",
        "def predict_note_authentication(Gender,Glucose,BP,SkinThickness,Insulin,BMI,PedigreeFunction,Age):\n",
        "  output= model.predict([[Gender,Glucose,BP,SkinThickness,Insulin,BMI,PedigreeFunction,Age]])\n",
        "  print(\"Disease Category is\",output)\n",
        "  if output==[0]:\n",
        "    prediction=\"Disease Category is 0\"\n",
        "  else:\n",
        "    prediction=\"Disease Category is 1\"\n",
        "  print(prediction)\n",
        "  return prediction\n",
        "def main():\n",
        "    \n",
        "    html_temp = \"\"\"\n",
        "   <div class=\"\" style=\"background-color:blue;\" >\n",
        "   <div class=\"clearfix\">           \n",
        "   <div class=\"col-md-12\">\n",
        "   <center><p style=\"font-size:40px;color:white;margin-top:10px;\">Poornima Institute of Engineering & Technology</p></center> \n",
        "   <center><p style=\"font-size:30px;color:white;margin-top:10px;\">Department of Computer Engineering</p></center> \n",
        "   <center><p style=\"font-size:25px;color:white;margin-top:10px;\">Deep Learning  Lab Experiment Deployment</p></center> \n",
        "   </div>\n",
        "   </div>\n",
        "   </div>\n",
        "   \"\"\"\n",
        "    st.markdown(html_temp,unsafe_allow_html=True)\n",
        "    st.header(\"Item Purchase Prediction\")\n",
        "    Age = st.number_input('Insert a Age',18,60)\n",
        "    Glucose = st.number_input('Insert a Glucose',0,200)\n",
        "    BP= st.number_input('Insert a BP',80,120)\n",
        "    SkinThickness = st.number_input('Insert a SkinThickness',0,100)\n",
        "    Insulin = st.number_input('Insert aInsulin',0,300)\n",
        "    Gender = st.number_input('Insert 0 for Male 1 for Female',0,1)\n",
        "    BMI= st.number_input('Insert BMI',10,50)\n",
        "    PedigreeFunction= st.number_input('Insert a PedigreeFunction')\n",
        "    \n",
        "    resul=\"\"\n",
        "    if st.button(\"Predict\"):\n",
        "      result=predict_note_authentication(Gender,Glucose,BP,SkinThickness,Insulin,BMI,PedigreeFunction,Age)\n",
        "      st.success('Model has predicted {}'.format(result))\n",
        "    if st.button(\"About\"):\n",
        "      st.subheader(\"Developed by Ishika Jain\")\n",
        "      st.subheader(\"B-Section,PIET\")\n",
        "\n",
        "if __name__=='__main__':\n",
        "  main()\n",
        "   "
      ],
      "execution_count": 36,
      "outputs": [
        {
          "output_type": "stream",
          "text": [
            "Overwriting app.py\n"
          ],
          "name": "stdout"
        }
      ]
    },
    {
      "cell_type": "code",
      "metadata": {
        "colab": {
          "base_uri": "https://localhost:8080/"
        },
        "id": "HDFnj555iM2U",
        "outputId": "489ed5c7-a582-4f05-cd37-0887a3e5bf33"
      },
      "source": [
        "!nohup streamlit run  app.py &"
      ],
      "execution_count": 37,
      "outputs": [
        {
          "output_type": "stream",
          "text": [
            "nohup: appending output to 'nohup.out'\n"
          ],
          "name": "stdout"
        }
      ]
    },
    {
      "cell_type": "code",
      "metadata": {
        "colab": {
          "base_uri": "https://localhost:8080/"
        },
        "id": "QSoYFFMsiM4t",
        "outputId": "15d75051-ebfb-469a-fdb4-72c5da190dc1"
      },
      "source": [
        "from pyngrok import ngrok\n",
        "url=ngrok.connect(port='8050')\n",
        "url"
      ],
      "execution_count": 40,
      "outputs": [
        {
          "output_type": "execute_result",
          "data": {
            "text/plain": [
              "<NgrokTunnel: \"http://c25d10668dad.ngrok.io\" -> \"http://localhost:80\">"
            ]
          },
          "metadata": {
            "tags": []
          },
          "execution_count": 40
        }
      ]
    },
    {
      "cell_type": "code",
      "metadata": {
        "colab": {
          "base_uri": "https://localhost:8080/"
        },
        "id": "JyBa074TiVDq",
        "outputId": "61299523-7f12-45fb-ab8c-887badee2fa4"
      },
      "source": [
        "!streamlit run --server.port 80 app.py"
      ],
      "execution_count": 41,
      "outputs": [
        {
          "output_type": "stream",
          "text": [
            "\u001b[0m\n",
            "\u001b[34m\u001b[1m  You can now view your Streamlit app in your browser.\u001b[0m\n",
            "\u001b[0m\n",
            "\u001b[34m  Network URL: \u001b[0m\u001b[1mhttp://172.28.0.2:80\u001b[0m\n",
            "\u001b[34m  External URL: \u001b[0m\u001b[1mhttp://35.245.58.181:80\u001b[0m\n",
            "\u001b[0m\n",
            "\u001b[34m  Stopping...\u001b[0m\n",
            "\u001b[34m  Stopping...\u001b[0m\n"
          ],
          "name": "stdout"
        }
      ]
    }
  ]
}